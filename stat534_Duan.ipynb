{
  "nbformat": 4,
  "nbformat_minor": 0,
  "metadata": {
    "kernelspec": {
      "name": "python3",
      "display_name": "Python 3"
    },
    "language_info": {
      "codemirror_mode": {
        "name": "ipython",
        "version": 3
      },
      "file_extension": ".py",
      "mimetype": "text/x-python",
      "name": "python",
      "nbconvert_exporter": "python",
      "pygments_lexer": "ipython3",
      "version": "3.7.3"
    },
    "colab": {
      "name": "stat534slides_Duan.ipynb",
      "provenance": [],
      "machine_shape": "hm",
      "include_colab_link": true
    },
    "accelerator": "GPU"
  },
  "cells": [
    {
      "cell_type": "markdown",
      "metadata": {
        "id": "view-in-github",
        "colab_type": "text"
      },
      "source": [
        "<a href=\"https://colab.research.google.com/github/redLeo-D/project_stat597/blob/master/stat534_Duan.ipynb\" target=\"_parent\"><img src=\"https://colab.research.google.com/assets/colab-badge.svg\" alt=\"Open In Colab\"/></a>"
      ]
    },
    {
      "cell_type": "code",
      "metadata": {
        "id": "7ZVzevMtFD4-",
        "colab_type": "code",
        "outputId": "ba152666-a905-421c-9be0-a7b3a8612d2c",
        "colab": {
          "base_uri": "https://localhost:8080/",
          "height": 154
        }
      },
      "source": [
        "from google.colab import drive\n",
        "drive.mount(\"/content/drive\")\n",
        "\n",
        "print('Files in Drive:')\n",
        "!ls /content/drive/'My Drive'"
      ],
      "execution_count": 0,
      "outputs": [
        {
          "output_type": "stream",
          "text": [
            "Go to this URL in a browser: https://accounts.google.com/o/oauth2/auth?client_id=947318989803-6bn6qk8qdgf4n4g3pfee6491hc0brc4i.apps.googleusercontent.com&redirect_uri=urn%3aietf%3awg%3aoauth%3a2.0%3aoob&response_type=code&scope=email%20https%3a%2f%2fwww.googleapis.com%2fauth%2fdocs.test%20https%3a%2f%2fwww.googleapis.com%2fauth%2fdrive%20https%3a%2f%2fwww.googleapis.com%2fauth%2fdrive.photos.readonly%20https%3a%2f%2fwww.googleapis.com%2fauth%2fpeopleapi.readonly\n",
            "\n",
            "Enter your authorization code:\n",
            "··········\n",
            "Mounted at /content/drive\n",
            "Files in Drive:\n",
            "'Colab Notebooks'  'Getting started.pdf'\n"
          ],
          "name": "stdout"
        }
      ]
    },
    {
      "cell_type": "code",
      "metadata": {
        "id": "SKQ6dhOeFFBW",
        "colab_type": "code",
        "outputId": "47f3f217-1f65-4d32-888f-27460c2a55ab",
        "colab": {
          "base_uri": "https://localhost:8080/",
          "height": 118
        }
      },
      "source": [
        "import os\n",
        "\n",
        "path = \"/content/drive/My Drive/Colab Notebooks/\"\n",
        "os.chdir(path)\n",
        "os.listdir(path)"
      ],
      "execution_count": 0,
      "outputs": [
        {
          "output_type": "execute_result",
          "data": {
            "text/plain": [
              "['Untitled0.ipynb',\n",
              " 'DMSC.csv',\n",
              " 'IMDB Dataset.csv',\n",
              " 'Copy of Welcome To Colaboratory',\n",
              " 'GPU.ipynb',\n",
              " 'stat534slides_Duan.ipynb']"
            ]
          },
          "metadata": {
            "tags": []
          },
          "execution_count": 1
        }
      ]
    },
    {
      "cell_type": "code",
      "metadata": {
        "id": "TW11Ts_m4216",
        "colab_type": "code",
        "colab": {}
      },
      "source": [
        "import pandas as pd\n",
        "import numpy as np\n",
        "raw_imdb = pd.read_csv('IMDB Dataset.csv')\n",
        "raw_douban = pd.read_csv('DMSC.csv')\n",
        "raw_douban_sim=raw_douban[[\"Comment\",\"Star\"]]"
      ],
      "execution_count": 0,
      "outputs": []
    },
    {
      "cell_type": "code",
      "metadata": {
        "id": "L01SgJyEXAbU",
        "colab_type": "code",
        "outputId": "a614e39b-cc14-4c97-96df-ec77e71d4afe",
        "colab": {
          "base_uri": "https://localhost:8080/",
          "height": 134
        }
      },
      "source": [
        "nltk.download('stopwords')\n",
        "nltk.download('punkt')\n",
        "nltk.download('wordnet')"
      ],
      "execution_count": 0,
      "outputs": [
        {
          "output_type": "stream",
          "text": [
            "[nltk_data] Downloading package stopwords to /root/nltk_data...\n",
            "[nltk_data]   Package stopwords is already up-to-date!\n",
            "[nltk_data] Downloading package punkt to /root/nltk_data...\n",
            "[nltk_data]   Package punkt is already up-to-date!\n",
            "[nltk_data] Downloading package wordnet to /root/nltk_data...\n",
            "[nltk_data]   Package wordnet is already up-to-date!\n"
          ],
          "name": "stdout"
        },
        {
          "output_type": "execute_result",
          "data": {
            "text/plain": [
              "True"
            ]
          },
          "metadata": {
            "tags": []
          },
          "execution_count": 27
        }
      ]
    },
    {
      "cell_type": "code",
      "metadata": {
        "id": "v2qUN6aT421_",
        "colab_type": "code",
        "colab": {}
      },
      "source": [
        "import nltk\n",
        "from nltk.stem import WordNetLemmatizer\n",
        "from nltk.corpus import stopwords\n",
        "from nltk.tokenize import word_tokenize\n",
        "stop_words = set(stopwords.words('english'))\n",
        "L=WordNetLemmatizer()\n",
        "import re\n",
        "stop_words = set(stopwords.words('english'))\n",
        "def remove(text):\n",
        "    text1=re.sub(\"[^\\w]\",\" \",text)\n",
        "    text2=re.sub(\"br\",\" \",text1)\n",
        "    tokens1 = word_tokenize(text2)\n",
        "    tokens = list(map(L.lemmatize,tokens1))\n",
        "    clean_tokens = tokens[:] \n",
        "    for token in  tokens: \n",
        "        if token in stop_words: \n",
        "            clean_tokens.remove(token)\n",
        "        w1 = [w for w in clean_tokens]   \n",
        "    return( \" \".join(w1))"
      ],
      "execution_count": 0,
      "outputs": []
    },
    {
      "cell_type": "code",
      "metadata": {
        "id": "PNCf91fQ422B",
        "colab_type": "code",
        "colab": {}
      },
      "source": [
        "imdb_clearreview=raw_imdb[\"review\"].apply(remove)"
      ],
      "execution_count": 0,
      "outputs": []
    },
    {
      "cell_type": "code",
      "metadata": {
        "id": "rTri7Lbk422C",
        "colab_type": "code",
        "outputId": "3afaca19-b2a6-44f7-d08d-ca5bdd2f4f6e",
        "colab": {
          "base_uri": "https://localhost:8080/",
          "height": 195
        }
      },
      "source": [
        "raw_imdb[\"review\"]=imdb_clearreview\n",
        "raw_imdb.head()"
      ],
      "execution_count": 0,
      "outputs": [
        {
          "output_type": "execute_result",
          "data": {
            "text/html": [
              "<div>\n",
              "<style scoped>\n",
              "    .dataframe tbody tr th:only-of-type {\n",
              "        vertical-align: middle;\n",
              "    }\n",
              "\n",
              "    .dataframe tbody tr th {\n",
              "        vertical-align: top;\n",
              "    }\n",
              "\n",
              "    .dataframe thead th {\n",
              "        text-align: right;\n",
              "    }\n",
              "</style>\n",
              "<table border=\"1\" class=\"dataframe\">\n",
              "  <thead>\n",
              "    <tr style=\"text-align: right;\">\n",
              "      <th></th>\n",
              "      <th>review</th>\n",
              "      <th>sentiment</th>\n",
              "    </tr>\n",
              "  </thead>\n",
              "  <tbody>\n",
              "    <tr>\n",
              "      <th>0</th>\n",
              "      <td>One reviewer ha mentioned watching 1 Oz episod...</td>\n",
              "      <td>positive</td>\n",
              "    </tr>\n",
              "    <tr>\n",
              "      <th>1</th>\n",
              "      <td>A wonderful little production The filming tech...</td>\n",
              "      <td>positive</td>\n",
              "    </tr>\n",
              "    <tr>\n",
              "      <th>2</th>\n",
              "      <td>I thought wa wonderful way spend time hot summ...</td>\n",
              "      <td>positive</td>\n",
              "    </tr>\n",
              "    <tr>\n",
              "      <th>3</th>\n",
              "      <td>Basically family little boy Jake think zombie ...</td>\n",
              "      <td>negative</td>\n",
              "    </tr>\n",
              "    <tr>\n",
              "      <th>4</th>\n",
              "      <td>Petter Mattei Love Time Money visually stunnin...</td>\n",
              "      <td>positive</td>\n",
              "    </tr>\n",
              "  </tbody>\n",
              "</table>\n",
              "</div>"
            ],
            "text/plain": [
              "                                              review sentiment\n",
              "0  One reviewer ha mentioned watching 1 Oz episod...  positive\n",
              "1  A wonderful little production The filming tech...  positive\n",
              "2  I thought wa wonderful way spend time hot summ...  positive\n",
              "3  Basically family little boy Jake think zombie ...  negative\n",
              "4  Petter Mattei Love Time Money visually stunnin...  positive"
            ]
          },
          "metadata": {
            "tags": []
          },
          "execution_count": 30
        }
      ]
    },
    {
      "cell_type": "code",
      "metadata": {
        "id": "PPN96qYs422F",
        "colab_type": "code",
        "colab": {}
      },
      "source": [
        "for i in range(len(raw_imdb[\"sentiment\"])):\n",
        "    if raw_imdb[\"sentiment\"][i]==\"positive\":\n",
        "        raw_imdb[\"sentiment\"][i]=1\n",
        "    else:\n",
        "        raw_imdb[\"sentiment\"][i]=0"
      ],
      "execution_count": 0,
      "outputs": []
    },
    {
      "cell_type": "code",
      "metadata": {
        "id": "8c2n4LmB422G",
        "colab_type": "code",
        "outputId": "a0c13784-8f82-4d70-c32c-e3eb85cc13d7",
        "colab": {
          "base_uri": "https://localhost:8080/",
          "height": 195
        }
      },
      "source": [
        "raw_imdb.head()"
      ],
      "execution_count": 0,
      "outputs": [
        {
          "output_type": "execute_result",
          "data": {
            "text/html": [
              "<div>\n",
              "<style scoped>\n",
              "    .dataframe tbody tr th:only-of-type {\n",
              "        vertical-align: middle;\n",
              "    }\n",
              "\n",
              "    .dataframe tbody tr th {\n",
              "        vertical-align: top;\n",
              "    }\n",
              "\n",
              "    .dataframe thead th {\n",
              "        text-align: right;\n",
              "    }\n",
              "</style>\n",
              "<table border=\"1\" class=\"dataframe\">\n",
              "  <thead>\n",
              "    <tr style=\"text-align: right;\">\n",
              "      <th></th>\n",
              "      <th>review</th>\n",
              "      <th>sentiment</th>\n",
              "    </tr>\n",
              "  </thead>\n",
              "  <tbody>\n",
              "    <tr>\n",
              "      <th>0</th>\n",
              "      <td>One reviewer ha mentioned watching 1 Oz episod...</td>\n",
              "      <td>1</td>\n",
              "    </tr>\n",
              "    <tr>\n",
              "      <th>1</th>\n",
              "      <td>A wonderful little production The filming tech...</td>\n",
              "      <td>1</td>\n",
              "    </tr>\n",
              "    <tr>\n",
              "      <th>2</th>\n",
              "      <td>I thought wa wonderful way spend time hot summ...</td>\n",
              "      <td>1</td>\n",
              "    </tr>\n",
              "    <tr>\n",
              "      <th>3</th>\n",
              "      <td>Basically family little boy Jake think zombie ...</td>\n",
              "      <td>0</td>\n",
              "    </tr>\n",
              "    <tr>\n",
              "      <th>4</th>\n",
              "      <td>Petter Mattei Love Time Money visually stunnin...</td>\n",
              "      <td>1</td>\n",
              "    </tr>\n",
              "  </tbody>\n",
              "</table>\n",
              "</div>"
            ],
            "text/plain": [
              "                                              review sentiment\n",
              "0  One reviewer ha mentioned watching 1 Oz episod...         1\n",
              "1  A wonderful little production The filming tech...         1\n",
              "2  I thought wa wonderful way spend time hot summ...         1\n",
              "3  Basically family little boy Jake think zombie ...         0\n",
              "4  Petter Mattei Love Time Money visually stunnin...         1"
            ]
          },
          "metadata": {
            "tags": []
          },
          "execution_count": 32
        }
      ]
    },
    {
      "cell_type": "code",
      "metadata": {
        "id": "xr2kB3ep422I",
        "colab_type": "code",
        "outputId": "ff771a67-41eb-4dc6-8e6c-b0e3438c0ada",
        "colab": {
          "base_uri": "https://localhost:8080/",
          "height": 50
        }
      },
      "source": [
        "raw_imdb[\"sentiment\"].value_counts(normalize=1)[0:1] #half pos half neg"
      ],
      "execution_count": 0,
      "outputs": [
        {
          "output_type": "execute_result",
          "data": {
            "text/plain": [
              "1    0.5\n",
              "Name: sentiment, dtype: float64"
            ]
          },
          "metadata": {
            "tags": []
          },
          "execution_count": 13
        }
      ]
    },
    {
      "cell_type": "code",
      "metadata": {
        "id": "_k5kwP5L422K",
        "colab_type": "code",
        "colab": {}
      },
      "source": [
        "from sklearn.naive_bayes import MultinomialNB\n",
        "from sklearn.ensemble import RandomForestClassifier,BaggingClassifier,ExtraTreesClassifier\n",
        "from sklearn.tree import DecisionTreeClassifier\n",
        "from sklearn.feature_extraction.text import CountVectorizer\n",
        "from sklearn.base import BaseEstimator, ClassifierMixin\n",
        "from sklearn.linear_model import LogisticRegression\n",
        "from sklearn.model_selection import cross_val_score,train_test_split,GridSearchCV"
      ],
      "execution_count": 0,
      "outputs": []
    },
    {
      "cell_type": "code",
      "metadata": {
        "id": "RxYy-fsm422L",
        "colab_type": "code",
        "outputId": "55cf8999-dbb1-4836-ccab-e93ec75ea6a2",
        "colab": {
          "base_uri": "https://localhost:8080/",
          "height": 34
        }
      },
      "source": [
        "X = raw_imdb[\"review\"]\n",
        "y = raw_imdb[\"sentiment\"]\n",
        "y=y.astype('int')\n",
        "X_train, X_test, y_train, y_test = train_test_split(X,y,stratify=y,random_state=243,test_size=0.5)  #split data\n",
        "\n",
        "vectorizer = CountVectorizer()\n",
        "X_train_vec = vectorizer.fit_transform(X_train) # into vector in one-hot encoding\n",
        "X_test_vec = vectorizer.transform(X_test)\n",
        "\n",
        "print(\"Dic Size:\", len(vectorizer.get_feature_names()))"
      ],
      "execution_count": 0,
      "outputs": [
        {
          "output_type": "stream",
          "text": [
            "Dic Size: 71369\n"
          ],
          "name": "stdout"
        }
      ]
    },
    {
      "cell_type": "code",
      "metadata": {
        "id": "2qbXt6iv422O",
        "colab_type": "code",
        "outputId": "68c6ac50-63da-4152-b4c9-3a628005f742",
        "colab": {
          "base_uri": "https://localhost:8080/",
          "height": 34
        }
      },
      "source": [
        "import time\n",
        "X_train_vec.shape"
      ],
      "execution_count": 0,
      "outputs": [
        {
          "output_type": "execute_result",
          "data": {
            "text/plain": [
              "(25000, 71369)"
            ]
          },
          "metadata": {
            "tags": []
          },
          "execution_count": 16
        }
      ]
    },
    {
      "cell_type": "code",
      "metadata": {
        "id": "bDBGJVK5422P",
        "colab_type": "code",
        "outputId": "7fa471b3-743d-4c21-d913-ef2771e48b8c",
        "colab": {
          "base_uri": "https://localhost:8080/",
          "height": 67
        }
      },
      "source": [
        "\n",
        "time1 = time.process_time()    \n",
        "model_mult_nb = MultinomialNB(alpha=1.0, class_prior=None, fit_prior=True)\n",
        "model_mult_nb.fit(X_train_vec,y_train)\n",
        "print(\"Train score\", model_mult_nb.score(X_train_vec,y_train))\n",
        "print(\"Test score\", model_mult_nb.score(X_test_vec,y_test))\n",
        "time2 = time.process_time()\n",
        "diff_time = time2 - time1\n",
        "print(\"Time\",diff_time)"
      ],
      "execution_count": 0,
      "outputs": [
        {
          "output_type": "stream",
          "text": [
            "Time 0.032180842000002485\n",
            "Train score 0.90716\n",
            "Test score 0.85364\n"
          ],
          "name": "stdout"
        }
      ]
    },
    {
      "cell_type": "code",
      "metadata": {
        "id": "oXMpYUBt422R",
        "colab_type": "code",
        "outputId": "d36b5c92-f595-4b0f-cbfa-d1b8c2962136",
        "colab": {
          "base_uri": "https://localhost:8080/",
          "height": 84
        }
      },
      "source": [
        "time1 = time.process_time() \n",
        "rf = RandomForestClassifier(random_state=243,n_estimators = 10)\n",
        "rf.fit(X_train_vec,y_train)\n",
        "print(\"Cross Val Score: \",cross_val_score(rf,X_train_vec,y_train,cv=5).mean())\n",
        "print(\"Train Score: \", round(rf.score(X_train_vec,y_train),4))\n",
        "print(\"Train Score: \", round(rf.score(X_test_vec,y_test),4))\n",
        "time2 = time.process_time() \n",
        "diff_time = time2 - time1\n",
        "print(\"Time\",diff_time)"
      ],
      "execution_count": 0,
      "outputs": [
        {
          "output_type": "stream",
          "text": [
            "Cross Val Score:  0.75588\n",
            "Train Score:  0.994\n",
            "Train Score:  0.7624\n",
            "Time 45.806724309\n"
          ],
          "name": "stdout"
        }
      ]
    },
    {
      "cell_type": "code",
      "metadata": {
        "id": "f131xfqr422T",
        "colab_type": "code",
        "outputId": "f20cb569-3404-4117-d079-898df3311a15",
        "colab": {
          "base_uri": "https://localhost:8080/",
          "height": 84
        }
      },
      "source": [
        "time1 = time.process_time()    \n",
        "bagged = BaggingClassifier(base_estimator=DecisionTreeClassifier(random_state=243)\n",
        "                            ,max_samples=0.5, max_features=0.5,n_estimators = 10)\n",
        "bagged.fit(X_train_vec,y_train)\n",
        "print(\"Cross Val Score: \",cross_val_score(bagged,X_train_vec,y_train,cv=5).mean())\n",
        "print(\"Train Score: \",bagged.score(X_train_vec,y_train))\n",
        "print(\"Test Score: \",bagged.score(X_test_vec,y_test))\n",
        "time2 = time.process_time() \n",
        "diff_time = time2 - time1\n",
        "print(\"Time\",diff_time)"
      ],
      "execution_count": 0,
      "outputs": [
        {
          "output_type": "stream",
          "text": [
            "Cross Val Score:  0.7787999999999999\n",
            "Train Score:  0.95012\n",
            "Test Score:  0.78864\n",
            "Time 374.881592202\n"
          ],
          "name": "stdout"
        }
      ]
    },
    {
      "cell_type": "code",
      "metadata": {
        "id": "4AbzxDqh422U",
        "colab_type": "code",
        "colab": {}
      },
      "source": [
        "model__max_features = ['auto',0.8,0.75,0.5]\n",
        "model__max_depth = [60,70,80,90,100,200]\n",
        "criterion=['entropy','gini']\n",
        "results = []\n",
        "for c in criterion:\n",
        "    for feat in model__max_features:\n",
        "        for depth in model__max_depth:\n",
        "            time1 = time.process_time()\n",
        "            rf = RandomForestClassifier(n_estimators = 10,random_state=243, criterion=c,max_depth=depth,max_features=feat\n",
        "                                    ,min_samples_leaf = 1)\n",
        "            rf.fit(X_train_vec,y_train)\n",
        "            cv_score = round(cross_val_score(rf,X_train_vec,y_train,cv=5).mean(),5)\n",
        "            train_score = round(rf.score(X_train_vec,y_train),5)\n",
        "            test_score = round(rf.score(X_test_vec,y_test),5) \n",
        "            time2 = time.process_time() \n",
        "            diff_time = time2 - time1\n",
        "            results.append([c,feat,depth,cv_score,train_score,test_score,diff_time ])"
      ],
      "execution_count": 0,
      "outputs": []
    },
    {
      "cell_type": "code",
      "metadata": {
        "scrolled": true,
        "id": "rxKcACr6422X",
        "colab_type": "code",
        "colab": {}
      },
      "source": [
        "results=[['gini', 'auto', 60, 0.77429, 0.95901, 0.77896, 43.578125],   #results\n",
        "['gini', 'auto', 70, 0.77051, 0.96928, 0.78384, 49.328125],\n",
        "['gini', 'auto', 80, 0.77245, 0.978, 0.778, 53.09375],\n",
        "['gini', 'auto', 90, 0.76656, 0.98352, 0.7756, 57.078125],\n",
        "['gini', 'auto', 100, 0.76789, 0.98643, 0.77448, 60.140625],\n",
        "['gini', 'auto', 200, 0.76227, 0.99331, 0.7628, 70.0],\n",
        "['gini', 0.8, 60, 0.78304, 0.96963, 0.78576, 1255.59375],\n",
        "['gini', 0.8, 70, 0.78195, 0.97405, 0.79104, 1332.625],\n",
        "['gini', 0.8, 80, 0.78275, 0.97832, 0.78312, 1385.703125],\n",
        "['gini', 0.8, 90, 0.78285, 0.98096, 0.78296, 1392.21875],\n",
        "['gini', 0.8, 100, 0.78011, 0.98387, 0.78616, 1422.140625],\n",
        "['gini', 0.8, 200, 0.77912, 0.98736, 0.78416, 1552.359375],\n",
        "['gini', 0.75, 60, 0.78043, 0.96995, 0.78336, 1168.28125],\n",
        "['gini', 0.75, 70, 0.78211, 0.97371, 0.78512, 1235.0],\n",
        "['gini', 0.75, 80, 0.78216, 0.97883, 0.78232, 1288.25],\n",
        "['gini', 0.75, 90, 0.78085, 0.98149, 0.7812, 1330.015625],\n",
        "['gini', 0.75, 100, 0.78152, 0.98323, 0.78256, 1358.328125],\n",
        "['gini', 0.75, 200, 0.78056, 0.98635, 0.78096, 1477.421875],\n",
        "['gini', 0.5, 60, 0.78331, 0.96789, 0.78696, 855.515625],\n",
        "['gini', 0.5, 70, 0.78365, 0.97389, 0.78616, 902.84375],\n",
        "['gini', 0.5, 80, 0.78309, 0.97859, 0.78568, 939.421875],\n",
        "['gini', 0.5, 90, 0.78269, 0.98048, 0.78416, 960.46875],\n",
        "['gini', 0.5, 100, 0.78336, 0.98176, 0.78912, 983.09375],\n",
        "['gini', 0.5, 200, 0.78275, 0.98765, 0.7864, 1061.59375], \n",
        "['entropy', 'auto', 60, 0.77853, 0.95779, 0.7868, 42.375],\n",
        "['entropy', 'auto', 70, 0.78112, 0.9692, 0.78072, 45.90625],\n",
        " ['entropy', 'auto', 80, 0.77912, 0.97779, 0.78496, 50.609375],\n",
        " ['entropy', 'auto', 90, 0.77683, 0.98224, 0.78336, 54.0],\n",
        " ['entropy', 'auto', 100, 0.77725, 0.98624, 0.77968, 56.265625],\n",
        " ['entropy', 'auto', 200, 0.77035, 0.99325, 0.77872, 66.140625],\n",
        " ['entropy', 0.8, 60, 0.78392, 0.98147, 0.78664, 1235.546875],\n",
        " ['entropy', 0.8, 70, 0.78448, 0.98472, 0.79144, 1242.453125],\n",
        " ['entropy', 0.8, 80, 0.78728, 0.98632, 0.78656, 1248.3125],\n",
        " ['entropy', 0.8, 90, 0.78459, 0.98733, 0.7892, 1260.078125],\n",
        " ['entropy', 0.8, 100, 0.78675, 0.98755, 0.7912, 1394.3125],\n",
        " ['entropy', 0.8, 200, 0.78421, 0.98859, 0.78968, 1433.3125],\n",
        " ['entropy', 0.75, 60, 0.78629, 0.97885, 0.78872, 1170.65625],\n",
        " ['entropy', 0.75, 70, 0.78387, 0.98237, 0.79072, 1149.59375],\n",
        " ['entropy', 0.75, 80, 0.78189, 0.98587, 0.78472, 1170.9375],\n",
        " ['entropy', 0.75, 90, 0.78285, 0.98661, 0.78688, 1182.265625],\n",
        " ['entropy', 0.75, 100, 0.78472, 0.98688, 0.7872, 1189.609375],\n",
        " ['entropy', 0.75, 200, 0.78333, 0.98944, 0.78616, 1205.015625],\n",
        " ['entropy', 0.5, 60, 0.78851, 0.97915, 0.79136, 825.15625],\n",
        " ['entropy', 0.5, 70, 0.78507, 0.98323, 0.79472, 850.203125],\n",
        " ['entropy', 0.5, 80, 0.78424, 0.98592, 0.78672, 866.328125],\n",
        " ['entropy', 0.5, 90, 0.78973, 0.98677, 0.78712, 874.734375],\n",
        " ['entropy', 0.5, 100, 0.78363, 0.98637, 0.7892, 882.375],\n",
        " ['entropy', 0.5, 200, 0.78741, 0.98792, 0.79088, 891.09375]]\n"
      ],
      "execution_count": 0,
      "outputs": []
    },
    {
      "cell_type": "code",
      "metadata": {
        "id": "SQq2NnLBs4iF",
        "colab_type": "code",
        "colab": {}
      },
      "source": [
        ""
      ],
      "execution_count": 0,
      "outputs": []
    },
    {
      "cell_type": "markdown",
      "metadata": {
        "id": "XmjMa5Dn422Z",
        "colab_type": "text"
      },
      "source": [
        "'gini', 0.8, 70 #best\n",
        "0.78195, 0.97405, 0.79104, 1332.625\n",
        "'entropy', 0.8, 70, 0.78448, 0.98472, 0.79144, 1242.453125"
      ]
    },
    {
      "cell_type": "code",
      "metadata": {
        "id": "RmYxVxTC422a",
        "colab_type": "code",
        "colab": {}
      },
      "source": [
        " n_est = [10,20,30,50,100,200]\n",
        " results_n = []\n",
        " for n in n_est:\n",
        "            time1 = time.process_time()\n",
        "            rf = RandomForestClassifier(n_estimators = n,random_state=243, criterion='entropy',max_depth=70,max_features=0.8\n",
        "                                    ,min_samples_leaf = 1)\n",
        "            rf.fit(X_train_vec,y_train)\n",
        "            cv_score = round(cross_val_score(rf,X_train_vec,y_train,cv=5).mean(),5)\n",
        "            train_score = round(rf.score(X_train_vec,y_train),5)\n",
        "            test_score = round(rf.score(X_test_vec,y_test),5) \n",
        "            time2 = time.process_time() \n",
        "            diff_time = time2 - time1\n",
        "            results_n.append([n,cv_score,train_score,test_score,diff_time ])"
      ],
      "execution_count": 0,
      "outputs": []
    },
    {
      "cell_type": "code",
      "metadata": {
        "id": "MhdNUNsbpGJL",
        "colab_type": "code",
        "colab": {}
      },
      "source": [
        "results_n"
      ],
      "execution_count": 0,
      "outputs": []
    },
    {
      "cell_type": "code",
      "metadata": {
        "id": "1Po466cC422c",
        "colab_type": "code",
        "outputId": "2cf54d66-6cc9-4c18-eacd-7dfcb54a07a7",
        "colab": {}
      },
      "source": [
        "importances = rf_best.feature_importances_\n",
        "std = np.std([tree.feature_importances_ for tree in rf_best.estimators_],\n",
        "             axis=0)\n",
        "indices = np.argsort(importances)[::-1]\n",
        "print(\"Word ranking:\")\n",
        "for f in range(0,20): \n",
        "    print(f + 1, indices[f], importances[indices[f]],vectorizer.get_feature_names()[indices[f]])  #name"
      ],
      "execution_count": 0,
      "outputs": [
        {
          "output_type": "stream",
          "text": [
            "Word ranking:\n",
            "1 6392 0.028500648616202273 bad\n",
            "2 9794 0.011629590982875571 boring\n",
            "3 83124 0.01004605405811155 worst\n",
            "4 31944 0.00817249946868279 great\n",
            "5 81430 0.007086654822098362 waste\n",
            "6 35433 0.004666603800768019 horrible\n",
            "7 8171 0.004567210771692593 best\n",
            "8 57554 0.003917764902205889 poor\n",
            "9 55765 0.003592179102074046 perfect\n",
            "10 8219 0.0034168026511821902 better\n",
            "11 6101 0.003353529814641313 awful\n",
            "12 4121 0.0033289788551688843 annoying\n",
            "13 49875 0.0033244912627166056 movie\n",
            "14 25384 0.0032583176110829197 even\n",
            "15 3471 0.0031979737994388808 amazing\n",
            "16 74477 0.0031880769234173484 terrible\n",
            "17 49221 0.003001703810135614 money\n",
            "18 22683 0.0029478520750341776 dull\n",
            "19 17170 0.002874793735313955 crap\n",
            "20 81798 0.0028249362435755895 well\n"
          ],
          "name": "stdout"
        }
      ]
    },
    {
      "cell_type": "code",
      "metadata": {
        "id": "19l05ekA422e",
        "colab_type": "code",
        "outputId": "088a86f8-8578-4233-83c8-910d07df9a2d",
        "colab": {}
      },
      "source": [
        "import matplotlib.pyplot as plt\n",
        "number_features_print = 20\n",
        "height = [importances[indices[i]] for i in range(0,number_features_print)]\n",
        "bars = [vectorizer.get_feature_names()[indices[x]] for x in range(0,number_features_print)]\n",
        "height.reverse()\n",
        "bars.reverse()\n",
        "y_pos = np.arange(len(bars))\n",
        "plt.barh(y_pos, height)\n",
        "plt.yticks(y_pos, bars)\n",
        "plt.title('Top predictors',fontsize=19)\n",
        "plt.yticks(fontsize=13)\n",
        "plt.xticks(fontsize=13)\n",
        "plt.ylabel('Word', fontsize = 16)\n",
        "plt.xlabel('Random Forest Coeficient', fontsize = 16)\n",
        "plt.figure(figsize=(13, 13))\n",
        "plt.show()"
      ],
      "execution_count": 0,
      "outputs": [
        {
          "output_type": "display_data",
          "data": {
            "image/png": "[encoded data removed]",
            "text/plain": [
              "<Figure size 432x288 with 1 Axes>"
            ]
          },
          "metadata": {
            "tags": [],
            "needs_background": "light"
          }
        },
        {
          "output_type": "display_data",
          "data": {
            "text/plain": [
              "<Figure size 936x936 with 0 Axes>"
            ]
          },
          "metadata": {
            "tags": []
          }
        }
      ]
    },
    {
      "cell_type": "code",
      "metadata": {
        "id": "__Pyj4iY422g",
        "colab_type": "code",
        "outputId": "eb31e0d1-e636-4afe-bbc9-a53eb42ff915",
        "colab": {
          "base_uri": "https://localhost:8080/",
          "height": 79
        }
      },
      "source": [
        "from keras.models import Sequential\n",
        "from keras.layers import Dense\n",
        "from keras.layers import Dropout\n",
        "from keras.layers import Embedding\n",
        "from keras.layers import LSTM\n",
        "from keras.utils import np_utils\n",
        "from keras.preprocessing import sequence\n",
        "from keras.datasets import imdb"
      ],
      "execution_count": 0,
      "outputs": [
        {
          "output_type": "stream",
          "text": [
            "Using TensorFlow backend.\n"
          ],
          "name": "stderr"
        },
        {
          "output_type": "display_data",
          "data": {
            "text/html": [
              "<p style=\"color: red;\">\n",
              "The default version of TensorFlow in Colab will soon switch to TensorFlow 2.x.<br>\n",
              "We recommend you <a href=\"https://www.tensorflow.org/guide/migrate\" target=\"_blank\">upgrade</a> now \n",
              "or ensure your notebook will continue to use TensorFlow 1.x via the <code>%tensorflow_version 1.x</code> magic:\n",
              "<a href=\"https://colab.research.google.com/notebooks/tensorflow_version.ipynb\" target=\"_blank\">more info</a>.</p>\n"
            ],
            "text/plain": [
              "<IPython.core.display.HTML object>"
            ]
          },
          "metadata": {
            "tags": []
          }
        }
      ]
    },
    {
      "cell_type": "code",
      "metadata": {
        "id": "nfmRNBE_422k",
        "colab_type": "code",
        "colab": {}
      },
      "source": [
        "max_features = 10000\n",
        "# cut texts after this number of words (among top max_features most common words)\n",
        "maxlen = 80\n",
        "batch_size = 32\n",
        "\n",
        "print('Loading data...')\n",
        "(x_train, y_train), (x_test, y_test) = imdb.load_data(num_words=max_features)\n",
        "print(len(x_train), 'train sequences')\n",
        "print(len(x_test), 'test sequences')\n",
        "\n",
        "print('Pad sequences (samples x time)')\n",
        "x_train = sequence.pad_sequences(x_train, maxlen=maxlen)\n",
        "x_test = sequence.pad_sequences(x_test, maxlen=maxlen)\n",
        "print('x_train shape:', x_train.shape)\n",
        "print('x_test shape:', x_test.shape)\n",
        "\n",
        "print('Build model...')\n",
        "model = Sequential()\n",
        "model.add(Embedding(max_features, 128))\n",
        "model.add(LSTM(128, dropout=0.2, recurrent_dropout=0.2))\n",
        "model.add(Dense(1, activation='sigmoid'))\n",
        "\n",
        "# try using different optimizers and different optimizer configs\n",
        "model.compile(loss='binary_crossentropy',\n",
        "              optimizer='adam',\n",
        "              metrics=['accuracy'])\n",
        "\n",
        "print('Train...')\n",
        "model.fit(x_train, y_train,\n",
        "          batch_size=batch_size,\n",
        "          epochs=15,\n",
        "          validation_data=(x_test, y_test))\n",
        "score, acc = model.evaluate(x_test, y_test,\n",
        "                            batch_size=batch_size)\n",
        "print('Test score:', score)\n",
        "print('Test accuracy:', acc)"
      ],
      "execution_count": 0,
      "outputs": []
    },
    {
      "cell_type": "code",
      "metadata": {
        "id": "-y895zcm422h",
        "colab_type": "code",
        "outputId": "b90c58b7-49cc-4655-c120-4b35456a1682",
        "colab": {
          "base_uri": "https://localhost:8080/",
          "height": 1000
        }
      },
      "source": [
        "maxlen = 500\n",
        "batch_size = 256\n",
        "\n",
        "(x_train, y_train), (x_test, y_test) = imdb.load_data(num_words=100000)\n",
        "print(len(x_train), 'train sequences')\n",
        "print(len(x_test), 'test sequences')\n",
        "\n",
        "x_train = sequence.pad_sequences(x_train, maxlen=maxlen)\n",
        "x_test = sequence.pad_sequences(x_test, maxlen=maxlen)\n",
        "\n",
        "print('Build model...')\n",
        "model = Sequential()\n",
        "model.add(Embedding(100000, 1024))\n",
        "model.add(LSTM(1024, dropout=0.5, recurrent_dropout=0.5))\n",
        "model.add(Dense(1, activation='sigmoid'))\n",
        "\n",
        "# try using different optimizers and different optimizer configs\n",
        "model.compile(loss='binary_crossentropy',\n",
        "              optimizer='adam',\n",
        "              metrics=['accuracy'])\n",
        "\n",
        "print('Train...')\n",
        "model.fit(x_train, y_train,\n",
        "          batch_size=batch_size,\n",
        "          epochs=15,\n",
        "          validation_data=(x_test, y_test))\n",
        "score, acc = model.evaluate(x_test, y_test,\n",
        "                            batch_size=batch_size)\n",
        "print('Test score:', score)\n",
        "print('Test accuracy:', acc)"
      ],
      "execution_count": 0,
      "outputs": [
        {
          "output_type": "stream",
          "text": [
            "25000 train sequences\n",
            "25000 test sequences\n",
            "Build model...\n",
            "WARNING:tensorflow:From /usr/local/lib/python3.6/dist-packages/keras/backend/tensorflow_backend.py:66: The name tf.get_default_graph is deprecated. Please use tf.compat.v1.get_default_graph instead.\n",
            "\n",
            "WARNING:tensorflow:From /usr/local/lib/python3.6/dist-packages/keras/backend/tensorflow_backend.py:541: The name tf.placeholder is deprecated. Please use tf.compat.v1.placeholder instead.\n",
            "\n",
            "WARNING:tensorflow:From /usr/local/lib/python3.6/dist-packages/keras/backend/tensorflow_backend.py:4432: The name tf.random_uniform is deprecated. Please use tf.random.uniform instead.\n",
            "\n",
            "WARNING:tensorflow:From /usr/local/lib/python3.6/dist-packages/keras/backend/tensorflow_backend.py:148: The name tf.placeholder_with_default is deprecated. Please use tf.compat.v1.placeholder_with_default instead.\n",
            "\n",
            "WARNING:tensorflow:From /usr/local/lib/python3.6/dist-packages/keras/backend/tensorflow_backend.py:3733: calling dropout (from tensorflow.python.ops.nn_ops) with keep_prob is deprecated and will be removed in a future version.\n",
            "Instructions for updating:\n",
            "Please use `rate` instead of `keep_prob`. Rate should be set to `rate = 1 - keep_prob`.\n",
            "WARNING:tensorflow:From /usr/local/lib/python3.6/dist-packages/keras/optimizers.py:793: The name tf.train.Optimizer is deprecated. Please use tf.compat.v1.train.Optimizer instead.\n",
            "\n",
            "WARNING:tensorflow:From /usr/local/lib/python3.6/dist-packages/keras/backend/tensorflow_backend.py:3657: The name tf.log is deprecated. Please use tf.math.log instead.\n",
            "\n",
            "WARNING:tensorflow:From /usr/local/lib/python3.6/dist-packages/tensorflow_core/python/ops/nn_impl.py:183: where (from tensorflow.python.ops.array_ops) is deprecated and will be removed in a future version.\n",
            "Instructions for updating:\n",
            "Use tf.where in 2.0, which has the same broadcast rule as np.where\n",
            "Train...\n",
            "WARNING:tensorflow:From /usr/local/lib/python3.6/dist-packages/keras/backend/tensorflow_backend.py:1033: The name tf.assign_add is deprecated. Please use tf.compat.v1.assign_add instead.\n",
            "\n",
            "WARNING:tensorflow:From /usr/local/lib/python3.6/dist-packages/keras/backend/tensorflow_backend.py:1020: The name tf.assign is deprecated. Please use tf.compat.v1.assign instead.\n",
            "\n",
            "WARNING:tensorflow:From /usr/local/lib/python3.6/dist-packages/keras/backend/tensorflow_backend.py:3005: The name tf.Session is deprecated. Please use tf.compat.v1.Session instead.\n",
            "\n",
            "Train on 25000 samples, validate on 25000 samples\n",
            "Epoch 1/15\n",
            "WARNING:tensorflow:From /usr/local/lib/python3.6/dist-packages/keras/backend/tensorflow_backend.py:190: The name tf.get_default_session is deprecated. Please use tf.compat.v1.get_default_session instead.\n",
            "\n",
            "WARNING:tensorflow:From /usr/local/lib/python3.6/dist-packages/keras/backend/tensorflow_backend.py:197: The name tf.ConfigProto is deprecated. Please use tf.compat.v1.ConfigProto instead.\n",
            "\n"
          ],
          "name": "stdout"
        },
        {
          "output_type": "stream",
          "text": [
            "/usr/local/lib/python3.6/dist-packages/tensorflow_core/python/framework/indexed_slices.py:421: UserWarning: Converting sparse IndexedSlices to a dense Tensor with 102400000 elements. This may consume a large amount of memory.\n",
            "  num_elements)\n"
          ],
          "name": "stderr"
        },
        {
          "output_type": "stream",
          "text": [
            "WARNING:tensorflow:From /usr/local/lib/python3.6/dist-packages/keras/backend/tensorflow_backend.py:207: The name tf.global_variables is deprecated. Please use tf.compat.v1.global_variables instead.\n",
            "\n",
            "WARNING:tensorflow:From /usr/local/lib/python3.6/dist-packages/keras/backend/tensorflow_backend.py:216: The name tf.is_variable_initialized is deprecated. Please use tf.compat.v1.is_variable_initialized instead.\n",
            "\n",
            "WARNING:tensorflow:From /usr/local/lib/python3.6/dist-packages/keras/backend/tensorflow_backend.py:223: The name tf.variables_initializer is deprecated. Please use tf.compat.v1.variables_initializer instead.\n",
            "\n",
            "25000/25000 [==============================] - 277s 11ms/step - loss: 0.5721 - acc: 0.6950 - val_loss: 0.5822 - val_acc: 0.7093\n",
            "Epoch 2/15\n",
            "25000/25000 [==============================] - 265s 11ms/step - loss: 0.3865 - acc: 0.8346 - val_loss: 0.4838 - val_acc: 0.7903\n",
            "Epoch 3/15\n",
            "25000/25000 [==============================] - 265s 11ms/step - loss: 0.3379 - acc: 0.8507 - val_loss: 0.5729 - val_acc: 0.6933\n",
            "Epoch 4/15\n",
            "25000/25000 [==============================] - 265s 11ms/step - loss: 0.4326 - acc: 0.7978 - val_loss: 0.4958 - val_acc: 0.7869\n",
            "Epoch 5/15\n",
            "25000/25000 [==============================] - 265s 11ms/step - loss: 0.2638 - acc: 0.8912 - val_loss: 0.3936 - val_acc: 0.8456\n",
            "Epoch 6/15\n",
            "25000/25000 [==============================] - 265s 11ms/step - loss: 0.1696 - acc: 0.9350 - val_loss: 0.4147 - val_acc: 0.8436\n",
            "Epoch 7/15\n",
            "25000/25000 [==============================] - 265s 11ms/step - loss: 0.1121 - acc: 0.9593 - val_loss: 0.4281 - val_acc: 0.8600\n",
            "Epoch 8/15\n",
            "25000/25000 [==============================] - 265s 11ms/step - loss: 0.0682 - acc: 0.9764 - val_loss: 0.4879 - val_acc: 0.8536\n",
            "Epoch 9/15\n",
            "25000/25000 [==============================] - 265s 11ms/step - loss: 0.0422 - acc: 0.9871 - val_loss: 0.5626 - val_acc: 0.8504\n",
            "Epoch 10/15\n",
            "25000/25000 [==============================] - 265s 11ms/step - loss: 0.0261 - acc: 0.9917 - val_loss: 0.6120 - val_acc: 0.8524\n",
            "Epoch 11/15\n",
            "25000/25000 [==============================] - 265s 11ms/step - loss: 0.0173 - acc: 0.9945 - val_loss: 0.6865 - val_acc: 0.8501\n",
            "Epoch 12/15\n",
            "25000/25000 [==============================] - 264s 11ms/step - loss: 0.0107 - acc: 0.9969 - val_loss: 0.7211 - val_acc: 0.8487\n",
            "Epoch 13/15\n",
            "25000/25000 [==============================] - 266s 11ms/step - loss: 0.0067 - acc: 0.9983 - val_loss: 0.7556 - val_acc: 0.8487\n",
            "Epoch 14/15\n",
            "25000/25000 [==============================] - 265s 11ms/step - loss: 0.0043 - acc: 0.9990 - val_loss: 0.8036 - val_acc: 0.8464\n",
            "Epoch 15/15\n",
            "25000/25000 [==============================] - 265s 11ms/step - loss: 0.0039 - acc: 0.9991 - val_loss: 0.8161 - val_acc: 0.8457\n",
            "25000/25000 [==============================] - 47s 2ms/step\n",
            "Test score: 0.8160773671340943\n",
            "Test accuracy: 0.8457199998474121\n"
          ],
          "name": "stdout"
        }
      ]
    },
    {
      "cell_type": "code",
      "metadata": {
        "id": "AvNrgRpl422m",
        "colab_type": "code",
        "colab": {}
      },
      "source": [
        ""
      ],
      "execution_count": 0,
      "outputs": []
    }
  ]
}